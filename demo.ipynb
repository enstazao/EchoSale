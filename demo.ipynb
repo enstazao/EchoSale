{
 "cells": [
  {
   "cell_type": "markdown",
   "id": "7bd5fc13-0852-4d36-9465-a03b54deaf8c",
   "metadata": {},
   "source": [
    "## Opener Agent\n",
    "The Opener Agent generates personalized cold emails to spark interest in potential clients choosing Antematter as their blockchain/AI consultancy. It crafts concise, conversational emails tailored to each lead's details, inquiring about project scope/budget."
   ]
  },
  {
   "cell_type": "markdown",
   "id": "8e8cd528-7f3d-4953-aee4-8bf37f2250d1",
   "metadata": {},
   "source": [
    "### Importing required libraries"
   ]
  },
  {
   "cell_type": "code",
   "execution_count": 1,
   "id": "9ac5e577-e460-4abb-b8f0-d57e07f15368",
   "metadata": {},
   "outputs": [],
   "source": [
    "from langchain.prompts import PromptTemplate\n",
    "from langchain import PromptTemplate, LLMChain\n",
    "from langchain_openai import ChatOpenAI"
   ]
  },
  {
   "cell_type": "markdown",
   "id": "901a2a4c-1afd-49cd-9b69-819387cc791a",
   "metadata": {},
   "source": [
    "### Recipient Information"
   ]
  },
  {
   "cell_type": "code",
   "execution_count": 2,
   "id": "d6354c08-c1a9-42d5-9161-358d333b784e",
   "metadata": {},
   "outputs": [],
   "source": [
    "# lead_information\n",
    "lead_name = \"Ahmed Qureshi\"\n",
    "lead_role = \"Director\"\n",
    "lead_company_information = \"AcmeCorp is a leading financial services provider in the industry. They offer a wide range of products and services to individual and institutional clients.\"\n",
    "lead_company_name = \"AcmeCorp\"\n",
    "industry = \"Finance\""
   ]
  },
  {
   "cell_type": "code",
   "execution_count": 3,
   "id": "8ce06b16-f534-48aa-b790-a696d073d95e",
   "metadata": {},
   "outputs": [],
   "source": [
    "# Set up OpenAI API key\n",
    "import os\n",
    "os.environ[\"OPENAI_API_KEY\"] = \"sk-proj-4eiNQl3DAi2HGj8kaH68T3BlbkFJRfe6LO4R7wMHramAdGZu\""
   ]
  },
  {
   "cell_type": "code",
   "execution_count": 4,
   "id": "260a2e60-8a75-4290-988d-fcfb85b57e94",
   "metadata": {},
   "outputs": [],
   "source": [
    "opener_agent_prompt = \"\"\"\n",
    "You are Jane Doe, a Project Manager at Antematter, a leading software consultancy specializing in innovative blockchain and AI solutions. Your goal is to write a personalized cold email that sparks interest in the recipient considering Antematter for their blockchain and AI consulting needs.\n",
    "\n",
    "The recipient's details are:\n",
    "\n",
    "{lead_name}: The name of the lead/recipient\n",
    "{lead_role}: The role of the {lead_name} at their company\n",
    "{lead_company_name}: The name of the company\n",
    "{industry}: The industry the recipient's company operates in\n",
    "{lead_company_information}: A brief summary of the {lead_company_name}\n",
    "\n",
    "The email you write should:\n",
    "\n",
    "- Address the lead by their name {lead_name}, recognize their role {lead_role} at {lead_company_name}, and mention the industry {industry} their company operates in.\n",
    "\n",
    "- Ask an open-ended question about their current challenges, goals, or initiatives related to blockchain/AI technology that could benefit from Antematter's expertise.\n",
    "\n",
    "- Use a concise and attention-grabbing subject line (under 30 characters) that is relevant to the recipient's industry or challenges.\n",
    "\n",
    "- Keep the email body concise (up to 3 paragraphs) while effectively communicating Antematter's value proposition and relevant experience.\n",
    "\n",
    "- Maintain a conversational, human-like tone that avoids sounding automated or like a hard sales pitch.\n",
    "\n",
    "- Avoid overly formal, flattering, or aggressive language. The tone should be professional yet friendly and focused on starting a dialogue.\n",
    "\n",
    "- Provide a clear and direct approach focused on initiating a conversation about how Antematter's expertise can benefit the recipient's company.\n",
    "\n",
    "- Do not make a hard sales pitch. The goal is to spark interest and a dialogue, not force a sale.\n",
    "\n",
    "- Keep the email easy to read, engaging, and focused on the main goal of generating interest in Antematter's blockchain and AI consulting services.\n",
    "\n",
    "Return a JSON object with the subject and body of the email as the \"body\" key.\n",
    "\"\"\"\n",
    "\n",
    "opener_agent_prompt_template = PromptTemplate(\n",
    "    template=opener_agent_prompt,\n",
    "    input_variables=[\"lead_name\", \"lead_role\", \"lead_company_information\", \"industry\", \"lead_company_name\"]\n",
    ")"
   ]
  },
  {
   "cell_type": "code",
   "execution_count": 5,
   "id": "9bc91dc3-8aad-4935-ba9b-367037c8475f",
   "metadata": {},
   "outputs": [],
   "source": [
    "# Create the LLMChain\n",
    "llm = ChatOpenAI(model_name=\"gpt-4\", temperature=0.5)  # Use GPT-4 model\n",
    "chain = LLMChain(llm=llm, prompt=opener_agent_prompt_template)\n",
    "\n",
    "# Generate the cold email\n",
    "email = chain.predict(lead_name=lead_name, lead_role=lead_role, lead_company_information=lead_company_information, industry=industry, lead_company_name=lead_company_name)"
   ]
  },
  {
   "cell_type": "code",
   "execution_count": 6,
   "id": "ac1bb9fb-80ee-4065-b22d-5074dce02cac",
   "metadata": {},
   "outputs": [
    {
     "name": "stdout",
     "output_type": "stream",
     "text": [
      "{\n",
      "  \"subject\": \"Unlock Blockchain & AI Potential at AcmeCorp\",\n",
      "  \"body\": \"Hello Ahmed Qureshi,\n",
      "\n",
      "As the Director of AcmeCorp, a leading financial services provider, you're likely aware of the transformative potential of blockchain and AI technologies in the Finance industry. I'm reaching out from Antematter, where we specialize in blockchain and AI solutions, and I'm curious about the challenges or initiatives at AcmeCorp that could leverage these technologies.\n",
      "\n",
      "Our team at Antematter has a solid track record of delivering innovative solutions that drive efficiency, security, and growth. We've helped numerous clients in the finance sector to harness the power of blockchain and AI, optimizing their operations and creating new value for their customers. \n",
      "\n",
      "I'd love to learn more about AcmeCorp's current focus and explore how we might be able to help. Could we set up a time for a brief conversation to discuss any specific areas where you're considering the application of blockchain or AI?\n",
      "\n",
      "Looking forward to your thoughts.\n",
      "\n",
      "Best,\n",
      "Jane Doe\n",
      "Project Manager, Antematter\"\n",
      "}\n"
     ]
    }
   ],
   "source": [
    "print(email)"
   ]
  },
  {
   "cell_type": "code",
   "execution_count": 12,
   "id": "ad3dab24-5509-412b-b90a-0a158d226306",
   "metadata": {},
   "outputs": [
    {
     "ename": "SyntaxError",
     "evalue": "unterminated string literal (detected at line 3) (<string>, line 3)",
     "output_type": "error",
     "traceback": [
      "Traceback \u001b[0;36m(most recent call last)\u001b[0m:\n",
      "\u001b[0m  File \u001b[1;32m~/anaconda3/envs/sales_email_writer_env/lib/python3.10/site-packages/IPython/core/interactiveshell.py:3577\u001b[0m in \u001b[1;35mrun_code\u001b[0m\n    exec(code_obj, self.user_global_ns, self.user_ns)\u001b[0m\n",
      "\u001b[0;36m  Cell \u001b[0;32mIn[12], line 3\u001b[0;36m\n\u001b[0;31m    data = eval(email)\u001b[0;36m\n",
      "\u001b[0;36m  File \u001b[0;32m<string>:3\u001b[0;36m\u001b[0m\n\u001b[0;31m    \"body\": \"Hello Ahmed Qureshi,\u001b[0m\n\u001b[0m            ^\u001b[0m\n\u001b[0;31mSyntaxError\u001b[0m\u001b[0;31m:\u001b[0m unterminated string literal (detected at line 3)\n"
     ]
    }
   ],
   "source": [
    "import json\n",
    "\n",
    "data = eval(email)"
   ]
  },
  {
   "cell_type": "markdown",
   "id": "39f2b9b8-e3e1-4939-b053-9ff28d758259",
   "metadata": {},
   "source": [
    "### Recipient Information"
   ]
  },
  {
   "cell_type": "code",
   "execution_count": 7,
   "id": "0a20bb4f-3af2-4efe-b5c3-56688ddb8397",
   "metadata": {},
   "outputs": [],
   "source": [
    "# lead_information\n",
    "lead_name = \"Shahid Hussain\"\n",
    "lead_role = \"Director\"\n",
    "lead_company_information = \"largest Japanese automobile manufacturer and one of the largest automotive companies in the world\"\n",
    "lead_company_name = \"Toyota\"\n",
    "industry = \"Automotive, materials handling, electronics, logistics, and textile machinery\""
   ]
  },
  {
   "cell_type": "code",
   "execution_count": 8,
   "id": "e4b099c0-70ab-440d-9d99-7d88be932eb9",
   "metadata": {},
   "outputs": [],
   "source": [
    "# Create the LLMChain\n",
    "llm = ChatOpenAI(model_name=\"gpt-4\", temperature=0.7)  # Use GPT-4 model\n",
    "chain = LLMChain(llm=llm, prompt=opener_agent_prompt_template)\n",
    "\n",
    "# Generate the cold email\n",
    "email = chain.predict(lead_name=lead_name, lead_role=lead_role, lead_company_information=lead_company_information, industry=industry, lead_company_name=lead_company_name)"
   ]
  },
  {
   "cell_type": "code",
   "execution_count": 9,
   "id": "13c2c554-5d38-4d41-bd04-422f0da7e6af",
   "metadata": {},
   "outputs": [
    {
     "name": "stdout",
     "output_type": "stream",
     "text": [
      "{\n",
      "  \"subject\": \"Boost Toyota’s Innovation with AI & Blockchain\",\n",
      "  \"body\": \"Hello Shahid Hussain,\n",
      "\n",
      "As the Director at Toyota, you’re at the helm of one of the largest automotive companies in the world, leading innovations in the automotive, materials handling, electronics, logistics, and textile machinery industries. That's not just impressive, it's truly inspiring.\n",
      "\n",
      "I'm Jane Doe, a Project Manager at Antematter, a forward-thinking software consultancy specializing in AI and blockchain solutions. Given your role, I was wondering, are there any ongoing or upcoming projects where you are considering the integration of AI or blockchain technology? Or perhaps challenges you're facing that could be potentially resolved with these technologies?\n",
      "\n",
      "At Antematter, we have a proven track record of helping companies in diverse industries unlock the full potential of these technologies. We pride ourselves on our ability to deliver custom solutions that provide real value, helping to streamline operations, enhance security, and drive innovation.\n",
      "\n",
      "I'd love the opportunity to learn more about your goals and discuss how we could help Toyota navigate the ever-evolving landscape of blockchain and AI. Could we set up a time for a brief call or an exchange of emails?\n",
      "\n",
      "Looking forward to your response.\n",
      "\n",
      "Best,\n",
      "Jane Doe\"\n",
      "}\n"
     ]
    }
   ],
   "source": [
    "print(email)"
   ]
  },
  {
   "cell_type": "markdown",
   "id": "565971c8-6368-40b1-b3a8-d89529ec985e",
   "metadata": {},
   "source": [
    "# Escalator Agent"
   ]
  },
  {
   "cell_type": "code",
   "execution_count": 10,
   "id": "7b89e608-23ab-4768-8fc3-f9f5c283a707",
   "metadata": {},
   "outputs": [],
   "source": [
    "# Inputs\n",
    "# Lead Information\n",
    "lead_name = \"Shahid Hussain\"\n",
    "lead_role = \"Director\"\n",
    "lead_company_information = \"largest Japanese automobile manufacturer and one of the largest automotive companies in the world\"\n",
    "lead_company_name = \"Toyota\"\n",
    "industry = \"Automotive, materials handling, electronics, logistics, and textile machinery\"\n",
    "lead_company_size = \"20-50\"\n",
    "project_title = \"deepseekcoder\"\n",
    "department = \"Coding Department\"\n",
    "\n",
    "looking_for = \"\"\"In the past, the company encountered an issue where their product manuals became out of sync with the software documentation. As the development teams continued to add new features and refine existing ones, they also updated the documentation. However, this required manual synchronization between the product manuals and the software documentation.\n",
    "\n",
    "To address this problem, the company has envisioned a solution called \"CentDoc\". This tool will automatically detect any inconsistencies between the product manuals and software documentation. It will then remove outdated information from the manuals using the software documentation, but only after receiving explicit approval from the user.\n",
    "\"\"\"\n",
    "lead_response = \"Thanks for reaching out. Our procurement team is actively looking for potential consultants. Can you please get in touch with them at procure@centdoc.io \""
   ]
  },
  {
   "cell_type": "code",
   "execution_count": 11,
   "id": "f1527f33-e178-4c9d-954f-99082244a780",
   "metadata": {},
   "outputs": [],
   "source": [
    "escalator_agent_prompt = \"\"\"\n",
    "You are an AI assistant responding to {lead_name}, a {lead_role} at {lead_company_name}, {lead_company_information}. Previously, you informed {lead_name} about your company's services for the project titled \"{project_title}\", and {lead_name} responded with the following:\n",
    "\n",
    "{lead_response}\n",
    "\n",
    "{lead_name} also provided the following information about the project scope:\n",
    "\n",
    "{looking_for}\n",
    "\n",
    "Your goal is to craft an appropriate response with a subject line and body based on the following requirements:\n",
    "\n",
    "- If the text \"{lead_response}\" contains phrases indicating a request to get in touch or provide contact information (e.g., \"please contact\", \"get in touch\", \"reach out\", \"email\", \"phone number\", etc.), AND the text \"{looking_for}\" contains information related to the project scope (e.g., words like \"project\", \"requirements\", \"goals\", \"objectives\", \"deliverables\", etc.), then generate a subject line: \"Escalating Your Request\" and escalate the lead to the admin in the body by saying \"Thank you for your interest in learning more about the {project_title} project. I'm escalating your request to our admin team who can provide additional details and next steps.\"\n",
    "\n",
    "- If the text \"{lead_response}\" contains phrases like \"more information\", \"schedule a call\", \"additional details\", etc. (case-insensitive), generate a subject line: \"Escalating Your Request\" and escalate the lead to the admin in the body by saying \"Thank you for your interest in learning more about the {project_title} project. I'm escalating your request to our admin team who can provide additional details and next steps.\"\n",
    "\n",
    "- If the text \"{lead_response}\" contains information that appears to be related to both the budget and scope of the project (e.g., numerical values followed by words like \"budget\", \"cost\", \"price\", \"dollars\", or currency symbols like \"$\", \"€\", \"£\", etc. AND words related to the project scope like \"project\", \"requirements\", \"goals\", \"objectives\", \"deliverables\", etc.), then generate a subject line: \"Next Steps for Your Project\" and escalate the lead to the admin in the body by saying \"Thank you for providing the budget and scope details for the {project_title} project. I'm escalating your request to our admin team who will follow up with next steps.\"\n",
    "\n",
    "- If the text \"{lead_response}\" does not contain any information that appears to be related to the budget (e.g., no numerical values followed by words like \"budget\", \"cost\", \"price\", \"dollars\", or currency symbols like \"$\", \"€\", \"£\", etc.), then generate a subject line: \"Additional Project Details Needed\" and prompt {lead_name} in the body to provide the missing budget details by asking a polite and friendly question like \"Could you please share some more details about your budget for the {project_title} project? This will help us better understand your requirements.\"\n",
    "\n",
    "- If the text \"{lead_response}\" does not contain any information that appears to be related to the project scope (e.g., no words related to the project scope like \"project\", \"requirements\", \"goals\", \"objectives\", \"deliverables\", etc.), then generate a subject line: \"Additional Project Details Needed\" and prompt {lead_name} in the body to provide the missing scope details by asking a polite and friendly question like \"Could you please share some more details about your project scope for the {project_title} project? This will help us better understand your requirements.\"\n",
    "\n",
    "- If the text \"{lead_response}\" does not contain any information that appears to be related to either the budget or the project scope, then generate a subject line: \"Additional Project Details Needed\" and prompt {lead_name} in the body to provide the missing details by asking a polite and friendly question like \"Could you please share some more details about your budget and project scope for the {project_title} project? This will help us better understand your requirements.\"\n",
    "\n",
    "Your response should:\n",
    "\n",
    "- Be concise and conversational, maintaining a friendly and professional tone.\n",
    "- Address {lead_name} by their name.\n",
    "- Use proper spelling, grammar, and punctuation.\n",
    "- Focus solely on handling the request based on the requirements above. Do not provide any additional information or make assumptions beyond the given requirements.\n",
    "\n",
    "Return your response as a JSON object with the keys \"subject\" containing the subject line and \"body\" containing the text of your response.\n",
    "\"\"\"\n",
    "\n",
    "escalator_agent_prompt_template = PromptTemplate(\n",
    "    template=escalator_agent_prompt,\n",
    "    input_variables=[\"lead_name\", \"lead_role\", \"lead_company_name\", \"lead_company_information\", \"lead_response\", \"looking_for\", \"project_title\"]\n",
    ")"
   ]
  },
  {
   "cell_type": "code",
   "execution_count": 12,
   "id": "041faf06-315d-46b3-a383-690f26dab41d",
   "metadata": {},
   "outputs": [],
   "source": [
    "# Create the LLMChain\n",
    "llm = ChatOpenAI(model_name=\"gpt-4\", temperature=0.8)  # Use GPT-4 model\n",
    "chain = LLMChain(llm=llm, prompt=escalator_agent_prompt_template)\n",
    "\n",
    "# Generate the cold email\n",
    "cold_email = chain.predict(lead_name=lead_name, lead_role=lead_role, lead_company_name=lead_company_name, lead_company_information=lead_company_information, lead_response=lead_response, looking_for=looking_for, project_title=project_title)"
   ]
  },
  {
   "cell_type": "code",
   "execution_count": 13,
   "id": "66c45eee-f3b2-4f02-8f66-79a48ec12372",
   "metadata": {},
   "outputs": [
    {
     "name": "stdout",
     "output_type": "stream",
     "text": [
      "{\n",
      "  \"subject\": \"Escalating Your Request\",\n",
      "  \"body\": \"Dear Shahid Hussain, \\n\\nThank you for your interest in learning more about the deepseekcoder project. I'm escalating your request to our admin team who can provide additional details and next steps. \\n\\nBest regards,\"\n",
      "}\n"
     ]
    }
   ],
   "source": [
    "print(cold_email)"
   ]
  },
  {
   "cell_type": "code",
   "execution_count": 14,
   "id": "796c81e3-3d42-4d86-948d-00346e7861a3",
   "metadata": {},
   "outputs": [],
   "source": [
    "# Inputs\n",
    "# Lead Information\n",
    "lead_name = \"Joe Steve\"\n",
    "lead_role = \"CTO\"\n",
    "lead_company_information = \"global company that designs, develops, and manufactures personal computers (PCs) and a variety of computer-related products.\"\n",
    "lead_company_name = \"Anz LLC\"\n",
    "industry = \"Computer hardware Software Cloud computing Data storage Information security Consulting\"\n",
    "lead_company_size = \"20-50\"\n",
    "project_title = \"ConSYS\"\n",
    "\n",
    "department = \"Content\"\n",
    "\n",
    "looking_for = \"\"\"\n",
    "Anz LLC is a company that creates SEO-enabled internet content for small businesses. \n",
    "They have a team of 20 members who write content for various products offered by different businesses.\n",
    "The team now plans to utilize generative AI to expedite the writing process, which will facilitate scaling for them.\n",
    "\"\"\"\n",
    "\n",
    "lead_response = \"\"\"Thank you for contacting us. Please find the attached scope document with this email. \n",
    "We do not have a specific budget in mind, and we are relying on you to provide us with an estimate.\n",
    " \"\"\""
   ]
  },
  {
   "cell_type": "code",
   "execution_count": 15,
   "id": "4f16226f-43aa-422b-ac1c-5395f713eca6",
   "metadata": {},
   "outputs": [],
   "source": [
    "# Create the LLMChain\n",
    "llm = ChatOpenAI(model_name=\"gpt-4\", temperature=0.5)  # Use GPT-4 model\n",
    "chain = LLMChain(llm=llm, prompt=escalator_agent_prompt_template)\n",
    "\n",
    "# Generate the cold email\n",
    "cold_email = chain.predict(lead_name=lead_name, lead_role=lead_role, lead_company_name=lead_company_name, lead_company_information=lead_company_information, lead_response=lead_response, looking_for=looking_for, project_title=project_title)"
   ]
  },
  {
   "cell_type": "code",
   "execution_count": 16,
   "id": "efafad90-00a7-4e77-8f15-252539218b56",
   "metadata": {},
   "outputs": [
    {
     "name": "stdout",
     "output_type": "stream",
     "text": [
      "{\n",
      "  \"subject\": \"Additional Project Details Needed\",\n",
      "  \"body\": \"Dear Joe Steve, \\n\\nThank you for reaching out to us and sharing the scope of the ConSYS project. As you have mentioned that you do not have a specific budget in mind, could you please share some more details about your budget for the ConSYS project? This will help us better understand your requirements and provide a more accurate estimate. \\n\\nLooking forward to your response. \\n\\nBest Regards.\"\n",
      "}\n"
     ]
    }
   ],
   "source": [
    "print(cold_email)"
   ]
  },
  {
   "cell_type": "code",
   "execution_count": null,
   "id": "e0a36e89-d6e5-4966-beb5-078e5e1138e6",
   "metadata": {},
   "outputs": [],
   "source": []
  }
 ],
 "metadata": {
  "kernelspec": {
   "display_name": "Python 3 (ipykernel)",
   "language": "python",
   "name": "python3"
  },
  "language_info": {
   "codemirror_mode": {
    "name": "ipython",
    "version": 3
   },
   "file_extension": ".py",
   "mimetype": "text/x-python",
   "name": "python",
   "nbconvert_exporter": "python",
   "pygments_lexer": "ipython3",
   "version": "3.10.14"
  }
 },
 "nbformat": 4,
 "nbformat_minor": 5
}
